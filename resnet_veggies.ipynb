{
 "cells": [
  {
   "cell_type": "code",
   "execution_count": 1,
   "id": "bcd78e5b-248d-4d50-ab81-5dda872ba597",
   "metadata": {},
   "outputs": [],
   "source": [
    "from tensorflow.keras.applications import ResNet101\n",
    "from tensorflow.keras.preprocessing.image import ImageDataGenerator\n",
    "from tensorflow.keras.models import Sequential\n",
    "from tensorflow.keras.layers import Dense, Flatten"
   ]
  },
  {
   "cell_type": "code",
   "execution_count": 2,
   "id": "6aa09216-4093-408e-8abc-9d2c7ea1163f",
   "metadata": {
    "tags": []
   },
   "outputs": [
    {
     "name": "stderr",
     "output_type": "stream",
     "text": [
      "2023-06-05 13:21:44.552340: I tensorflow/stream_executor/cuda/cuda_gpu_executor.cc:936] successful NUMA node read from SysFS had negative value (-1), but there must be at least one NUMA node, so returning NUMA node zero\n",
      "2023-06-05 13:21:44.565808: I tensorflow/stream_executor/cuda/cuda_gpu_executor.cc:936] successful NUMA node read from SysFS had negative value (-1), but there must be at least one NUMA node, so returning NUMA node zero\n",
      "2023-06-05 13:21:44.567522: I tensorflow/stream_executor/cuda/cuda_gpu_executor.cc:936] successful NUMA node read from SysFS had negative value (-1), but there must be at least one NUMA node, so returning NUMA node zero\n",
      "2023-06-05 13:21:44.569920: I tensorflow/core/platform/cpu_feature_guard.cc:151] This TensorFlow binary is optimized with oneAPI Deep Neural Network Library (oneDNN) to use the following CPU instructions in performance-critical operations:  AVX2 FMA\n",
      "To enable them in other operations, rebuild TensorFlow with the appropriate compiler flags.\n",
      "2023-06-05 13:21:44.572514: I tensorflow/stream_executor/cuda/cuda_gpu_executor.cc:936] successful NUMA node read from SysFS had negative value (-1), but there must be at least one NUMA node, so returning NUMA node zero\n",
      "2023-06-05 13:21:44.574237: I tensorflow/stream_executor/cuda/cuda_gpu_executor.cc:936] successful NUMA node read from SysFS had negative value (-1), but there must be at least one NUMA node, so returning NUMA node zero\n",
      "2023-06-05 13:21:44.575864: I tensorflow/stream_executor/cuda/cuda_gpu_executor.cc:936] successful NUMA node read from SysFS had negative value (-1), but there must be at least one NUMA node, so returning NUMA node zero\n",
      "2023-06-05 13:21:45.322213: I tensorflow/stream_executor/cuda/cuda_gpu_executor.cc:936] successful NUMA node read from SysFS had negative value (-1), but there must be at least one NUMA node, so returning NUMA node zero\n",
      "2023-06-05 13:21:45.324083: I tensorflow/stream_executor/cuda/cuda_gpu_executor.cc:936] successful NUMA node read from SysFS had negative value (-1), but there must be at least one NUMA node, so returning NUMA node zero\n",
      "2023-06-05 13:21:45.325643: I tensorflow/stream_executor/cuda/cuda_gpu_executor.cc:936] successful NUMA node read from SysFS had negative value (-1), but there must be at least one NUMA node, so returning NUMA node zero\n",
      "2023-06-05 13:21:45.327148: I tensorflow/core/common_runtime/gpu/gpu_device.cc:1525] Created device /job:localhost/replica:0/task:0/device:GPU:0 with 13598 MB memory:  -> device: 0, name: Tesla T4, pci bus id: 0000:00:04.0, compute capability: 7.5\n"
     ]
    }
   ],
   "source": [
    "base_model = ResNet101(weights='imagenet', include_top=False, input_shape=(224, 224, 3))"
   ]
  },
  {
   "cell_type": "code",
   "execution_count": 3,
   "id": "db32cd9e-cf63-4eb6-88b6-715da1144be0",
   "metadata": {},
   "outputs": [],
   "source": [
    "model = Sequential()\n",
    "model.add(base_model)"
   ]
  },
  {
   "cell_type": "code",
   "execution_count": 5,
   "id": "0dcd1321-36da-4a07-857a-97865d822ac4",
   "metadata": {},
   "outputs": [],
   "source": [
    "num_classes = 5\n",
    "model.add(Flatten())\n",
    "model.add(Dense(256, activation='relu'))\n",
    "model.add(Dense(num_classes, activation='softmax'))\n"
   ]
  },
  {
   "cell_type": "code",
   "execution_count": 6,
   "id": "06455126-18cb-4cfa-8085-79bc5c70e0ae",
   "metadata": {},
   "outputs": [],
   "source": [
    "model.compile(loss='categorical_crossentropy', optimizer='adam', metrics=['accuracy'])\n"
   ]
  },
  {
   "cell_type": "code",
   "execution_count": 7,
   "id": "114d11c7-f113-413f-87c5-f848af9a4f4f",
   "metadata": {},
   "outputs": [
    {
     "name": "stdout",
     "output_type": "stream",
     "text": [
      "Found 4000 images belonging to 5 classes.\n",
      "Found 200 images belonging to 5 classes.\n"
     ]
    }
   ],
   "source": [
    "datagen = ImageDataGenerator(rescale=1./255, validation_split=0.2)  # rescale pixel values between 0 and 1\n",
    "train_dir = \"./dataset/VegetableImages/train/\"\n",
    "train_generator = datagen.flow_from_directory(\n",
    "    train_dir,\n",
    "    target_size=(224, 224),\n",
    "    batch_size=32,\n",
    "    class_mode='categorical',\n",
    "    subset='training'\n",
    ")\n",
    "val_dir = \"./dataset/VegetableImages/validation/\"\n",
    "validation_generator = datagen.flow_from_directory(\n",
    "    val_dir,\n",
    "    target_size=(224, 224),\n",
    "    batch_size=32,\n",
    "    class_mode='categorical',\n",
    "    subset='validation'\n",
    ")\n"
   ]
  },
  {
   "cell_type": "code",
   "execution_count": null,
   "id": "fecf0356-edd7-4828-8b67-d7a5278e7976",
   "metadata": {
    "collapsed": true,
    "jupyter": {
     "outputs_hidden": true
    },
    "tags": []
   },
   "outputs": [
    {
     "name": "stdout",
     "output_type": "stream",
     "text": [
      "Epoch 1/200\n"
     ]
    },
    {
     "name": "stderr",
     "output_type": "stream",
     "text": [
      "/opt/conda/lib/python3.7/site-packages/ipykernel_launcher.py:8: UserWarning: `Model.fit_generator` is deprecated and will be removed in a future version. Please use `Model.fit`, which supports generators.\n",
      "  \n"
     ]
    },
    {
     "name": "stdout",
     "output_type": "stream",
     "text": [
      "125/125 [==============================] - 74s 589ms/step - loss: 0.0050 - accuracy: 0.9990 - val_loss: 0.5444 - val_accuracy: 0.9167\n",
      "Epoch 2/200\n",
      "125/125 [==============================] - 74s 588ms/step - loss: 0.0015 - accuracy: 0.9995 - val_loss: 0.1756 - val_accuracy: 0.9792\n",
      "Epoch 3/200\n",
      "125/125 [==============================] - 74s 589ms/step - loss: 0.0035 - accuracy: 0.9990 - val_loss: 0.3640 - val_accuracy: 0.9583\n",
      "Epoch 4/200\n",
      "125/125 [==============================] - 74s 589ms/step - loss: 0.0372 - accuracy: 0.9962 - val_loss: 2.7557 - val_accuracy: 0.9740\n",
      "Epoch 5/200\n",
      "125/125 [==============================] - 74s 588ms/step - loss: 0.0044 - accuracy: 0.9985 - val_loss: 0.1309 - val_accuracy: 0.9844\n",
      "Epoch 6/200\n",
      "125/125 [==============================] - 74s 588ms/step - loss: 0.0491 - accuracy: 0.9983 - val_loss: 0.1908 - val_accuracy: 0.9792\n",
      "Epoch 7/200\n",
      "125/125 [==============================] - 74s 588ms/step - loss: 4.0023e-04 - accuracy: 1.0000 - val_loss: 0.3320 - val_accuracy: 0.9792\n",
      "Epoch 8/200\n",
      "125/125 [==============================] - 74s 589ms/step - loss: 0.0058 - accuracy: 0.9983 - val_loss: 0.3709 - val_accuracy: 0.9688\n",
      "Epoch 9/200\n",
      "125/125 [==============================] - 74s 589ms/step - loss: 0.0036 - accuracy: 0.9992 - val_loss: 0.0868 - val_accuracy: 0.9740\n",
      "Epoch 10/200\n",
      "125/125 [==============================] - 74s 588ms/step - loss: 0.0965 - accuracy: 0.9850 - val_loss: 1.7725 - val_accuracy: 0.9323\n",
      "Epoch 11/200\n",
      "125/125 [==============================] - 74s 589ms/step - loss: 0.0375 - accuracy: 0.9933 - val_loss: 0.4674 - val_accuracy: 0.9688\n",
      "Epoch 12/200\n",
      "125/125 [==============================] - 74s 588ms/step - loss: 0.0164 - accuracy: 0.9977 - val_loss: 0.1668 - val_accuracy: 0.9792\n",
      "Epoch 13/200\n",
      "125/125 [==============================] - 73s 587ms/step - loss: 0.0030 - accuracy: 0.9992 - val_loss: 0.1966 - val_accuracy: 0.9635\n",
      "Epoch 14/200\n",
      "125/125 [==============================] - 73s 588ms/step - loss: 1.8369e-04 - accuracy: 1.0000 - val_loss: 0.1647 - val_accuracy: 0.9792\n",
      "Epoch 15/200\n",
      "125/125 [==============================] - 74s 589ms/step - loss: 0.0064 - accuracy: 0.9990 - val_loss: 0.1343 - val_accuracy: 0.9792\n",
      "Epoch 16/200\n",
      "125/125 [==============================] - 74s 588ms/step - loss: 0.0011 - accuracy: 0.9998 - val_loss: 0.1430 - val_accuracy: 0.9740\n",
      "Epoch 17/200\n",
      "125/125 [==============================] - 74s 588ms/step - loss: 2.6283e-04 - accuracy: 1.0000 - val_loss: 0.1614 - val_accuracy: 0.9688\n",
      "Epoch 18/200\n",
      "125/125 [==============================] - 74s 589ms/step - loss: 2.5381e-04 - accuracy: 1.0000 - val_loss: 0.1631 - val_accuracy: 0.9792\n",
      "Epoch 19/200\n",
      "125/125 [==============================] - 73s 587ms/step - loss: 0.0020 - accuracy: 0.9998 - val_loss: 0.1572 - val_accuracy: 0.9740\n",
      "Epoch 20/200\n",
      "125/125 [==============================] - 74s 588ms/step - loss: 2.4380e-05 - accuracy: 1.0000 - val_loss: 0.0643 - val_accuracy: 0.9844\n",
      "Epoch 21/200\n",
      "125/125 [==============================] - 74s 589ms/step - loss: 1.5938e-05 - accuracy: 1.0000 - val_loss: 0.2163 - val_accuracy: 0.9740\n",
      "Epoch 22/200\n",
      "125/125 [==============================] - 74s 589ms/step - loss: 0.0212 - accuracy: 0.9980 - val_loss: 0.2432 - val_accuracy: 0.9740\n",
      "Epoch 23/200\n",
      "125/125 [==============================] - 74s 589ms/step - loss: 0.0138 - accuracy: 0.9975 - val_loss: 0.1376 - val_accuracy: 0.9740\n",
      "Epoch 24/200\n",
      "125/125 [==============================] - 74s 588ms/step - loss: 0.0019 - accuracy: 0.9998 - val_loss: 0.1370 - val_accuracy: 0.9792\n",
      "Epoch 25/200\n",
      "125/125 [==============================] - 74s 588ms/step - loss: 2.9903e-04 - accuracy: 1.0000 - val_loss: 0.1509 - val_accuracy: 0.9844\n",
      "Epoch 26/200\n",
      "125/125 [==============================] - 74s 588ms/step - loss: 0.0179 - accuracy: 0.9967 - val_loss: 0.8648 - val_accuracy: 0.8958\n",
      "Epoch 27/200\n",
      "125/125 [==============================] - 74s 589ms/step - loss: 0.0300 - accuracy: 0.9973 - val_loss: 0.4252 - val_accuracy: 0.9688\n",
      "Epoch 30/200\n",
      "125/125 [==============================] - 74s 589ms/step - loss: 0.0240 - accuracy: 0.9985 - val_loss: 0.2802 - val_accuracy: 0.9635\n",
      "Epoch 31/200\n",
      "125/125 [==============================] - 74s 588ms/step - loss: 0.0130 - accuracy: 0.9975 - val_loss: 0.3698 - val_accuracy: 0.9740\n",
      "Epoch 32/200\n",
      "125/125 [==============================] - 74s 588ms/step - loss: 0.0022 - accuracy: 0.9998 - val_loss: 0.9127 - val_accuracy: 0.9792\n",
      "Epoch 33/200\n",
      "125/125 [==============================] - 74s 589ms/step - loss: 6.3746e-04 - accuracy: 0.9995 - val_loss: 0.4885 - val_accuracy: 0.9792\n",
      "Epoch 34/200\n",
      "125/125 [==============================] - 74s 589ms/step - loss: 1.4258e-04 - accuracy: 1.0000 - val_loss: 0.3929 - val_accuracy: 0.9740\n",
      "Epoch 35/200\n",
      "125/125 [==============================] - 74s 588ms/step - loss: 0.0170 - accuracy: 0.9973 - val_loss: 0.5375 - val_accuracy: 0.9688\n",
      "Epoch 36/200\n",
      "125/125 [==============================] - 74s 588ms/step - loss: 0.0161 - accuracy: 0.9965 - val_loss: 0.3474 - val_accuracy: 0.9792\n",
      "Epoch 37/200\n",
      "125/125 [==============================] - 73s 587ms/step - loss: 0.0077 - accuracy: 0.9985 - val_loss: 0.1211 - val_accuracy: 0.9844\n",
      "Epoch 38/200\n",
      "125/125 [==============================] - 73s 587ms/step - loss: 0.0091 - accuracy: 0.9992 - val_loss: 0.5560 - val_accuracy: 0.9688\n",
      "Epoch 39/200\n",
      "125/125 [==============================] - 74s 588ms/step - loss: 0.0407 - accuracy: 0.9967 - val_loss: 0.4741 - val_accuracy: 0.9688\n",
      "Epoch 40/200\n",
      "125/125 [==============================] - 74s 588ms/step - loss: 0.0326 - accuracy: 0.9983 - val_loss: 0.6723 - val_accuracy: 0.9740\n",
      "Epoch 41/200\n",
      "125/125 [==============================] - 74s 588ms/step - loss: 0.0138 - accuracy: 0.9970 - val_loss: 0.5652 - val_accuracy: 0.9896\n",
      "Epoch 42/200\n",
      "125/125 [==============================] - 74s 588ms/step - loss: 0.0013 - accuracy: 0.9995 - val_loss: 0.2679 - val_accuracy: 0.9896\n",
      "Epoch 43/200\n",
      "125/125 [==============================] - 74s 589ms/step - loss: 1.8842e-04 - accuracy: 1.0000 - val_loss: 0.2413 - val_accuracy: 0.9896\n",
      "Epoch 44/200\n",
      "125/125 [==============================] - 74s 588ms/step - loss: 0.0152 - accuracy: 0.9995 - val_loss: 0.0572 - val_accuracy: 0.9844\n",
      "Epoch 45/200\n",
      "125/125 [==============================] - 74s 588ms/step - loss: 0.0018 - accuracy: 0.9995 - val_loss: 0.2425 - val_accuracy: 0.9740\n",
      "Epoch 46/200\n",
      "125/125 [==============================] - 74s 588ms/step - loss: 0.0155 - accuracy: 0.9970 - val_loss: 0.3384 - val_accuracy: 0.9479\n",
      "Epoch 47/200\n",
      "125/125 [==============================] - 74s 588ms/step - loss: 0.0393 - accuracy: 0.9967 - val_loss: 0.2046 - val_accuracy: 0.9740\n",
      "Epoch 48/200\n",
      "125/125 [==============================] - 73s 587ms/step - loss: 0.0080 - accuracy: 0.9973 - val_loss: 0.4771 - val_accuracy: 0.9688\n",
      "Epoch 49/200\n",
      "125/125 [==============================] - 74s 588ms/step - loss: 0.0070 - accuracy: 0.9995 - val_loss: 0.1189 - val_accuracy: 0.9792\n",
      "Epoch 50/200\n",
      "125/125 [==============================] - 74s 588ms/step - loss: 0.0040 - accuracy: 0.9990 - val_loss: 0.5059 - val_accuracy: 0.9740\n",
      "Epoch 51/200\n",
      "125/125 [==============================] - 73s 587ms/step - loss: 0.0080 - accuracy: 0.9987 - val_loss: 1.2113 - val_accuracy: 0.9479\n",
      "Epoch 52/200\n",
      "125/125 [==============================] - 74s 588ms/step - loss: 0.0038 - accuracy: 0.9995 - val_loss: 0.0895 - val_accuracy: 0.9740\n",
      "Epoch 53/200\n",
      "125/125 [==============================] - 73s 587ms/step - loss: 0.0033 - accuracy: 0.9992 - val_loss: 0.2097 - val_accuracy: 0.9688\n",
      "Epoch 54/200\n",
      "125/125 [==============================] - 73s 587ms/step - loss: 0.0036 - accuracy: 0.9992 - val_loss: 0.3749 - val_accuracy: 0.9844\n",
      "Epoch 55/200\n",
      "125/125 [==============================] - 74s 588ms/step - loss: 0.0129 - accuracy: 0.9973 - val_loss: 0.7796 - val_accuracy: 0.9688\n",
      "Epoch 56/200\n",
      "125/125 [==============================] - 73s 587ms/step - loss: 0.0083 - accuracy: 0.9985 - val_loss: 0.4067 - val_accuracy: 0.9583\n",
      "Epoch 57/200\n",
      "125/125 [==============================] - 73s 587ms/step - loss: 0.0038 - accuracy: 0.9995 - val_loss: 0.0328 - val_accuracy: 0.9844\n",
      "Epoch 58/200\n",
      "125/125 [==============================] - 73s 586ms/step - loss: 0.0010 - accuracy: 0.9995 - val_loss: 0.2289 - val_accuracy: 0.9792\n",
      "Epoch 59/200\n",
      "125/125 [==============================] - 73s 587ms/step - loss: 0.0014 - accuracy: 0.9995 - val_loss: 0.3206 - val_accuracy: 0.9740\n",
      "Epoch 60/200\n",
      "125/125 [==============================] - 73s 586ms/step - loss: 3.4202e-04 - accuracy: 0.9998 - val_loss: 0.1474 - val_accuracy: 0.9844\n",
      "Epoch 61/200\n",
      "125/125 [==============================] - 73s 587ms/step - loss: 0.0072 - accuracy: 0.9998 - val_loss: 0.1063 - val_accuracy: 0.9896\n",
      "Epoch 62/200\n",
      "125/125 [==============================] - 73s 586ms/step - loss: 3.5968e-04 - accuracy: 0.9998 - val_loss: 0.1519 - val_accuracy: 0.9844\n",
      "Epoch 63/200\n",
      "125/125 [==============================] - 73s 586ms/step - loss: 3.5684e-05 - accuracy: 1.0000 - val_loss: 0.1447 - val_accuracy: 0.9844\n",
      "Epoch 64/200\n",
      "125/125 [==============================] - 73s 587ms/step - loss: 1.2536e-05 - accuracy: 1.0000 - val_loss: 0.1210 - val_accuracy: 0.9896\n",
      "Epoch 65/200\n",
      "125/125 [==============================] - 73s 587ms/step - loss: 7.3303e-06 - accuracy: 1.0000 - val_loss: 0.1497 - val_accuracy: 0.9844\n",
      "Epoch 66/200\n",
      "125/125 [==============================] - 73s 587ms/step - loss: 0.0018 - accuracy: 0.9995 - val_loss: 0.4132 - val_accuracy: 0.9844\n",
      "Epoch 67/200\n",
      "125/125 [==============================] - 73s 587ms/step - loss: 3.5576e-04 - accuracy: 1.0000 - val_loss: 0.5003 - val_accuracy: 0.9896\n",
      "Epoch 68/200\n",
      "125/125 [==============================] - 73s 587ms/step - loss: 0.0150 - accuracy: 0.9975 - val_loss: 0.5664 - val_accuracy: 0.9427\n",
      "Epoch 69/200\n",
      "125/125 [==============================] - 73s 587ms/step - loss: 0.0549 - accuracy: 0.9910 - val_loss: 0.2971 - val_accuracy: 0.9740\n",
      "Epoch 70/200\n",
      "125/125 [==============================] - 73s 587ms/step - loss: 0.0250 - accuracy: 0.9955 - val_loss: 0.1437 - val_accuracy: 0.9792\n",
      "Epoch 71/200\n",
      "125/125 [==============================] - 73s 587ms/step - loss: 0.0117 - accuracy: 0.9983 - val_loss: 0.8035 - val_accuracy: 0.9635\n",
      "Epoch 72/200\n",
      "125/125 [==============================] - 73s 587ms/step - loss: 0.0483 - accuracy: 0.9990 - val_loss: 0.0964 - val_accuracy: 0.9792\n",
      "Epoch 73/200\n",
      "125/125 [==============================] - 73s 587ms/step - loss: 0.0153 - accuracy: 0.9992 - val_loss: 0.0958 - val_accuracy: 0.9792\n",
      "Epoch 74/200\n",
      "125/125 [==============================] - 73s 587ms/step - loss: 0.0031 - accuracy: 0.9985 - val_loss: 0.1506 - val_accuracy: 0.9740\n",
      "Epoch 75/200\n",
      "125/125 [==============================] - 73s 587ms/step - loss: 0.0259 - accuracy: 0.9983 - val_loss: 0.1553 - val_accuracy: 0.9896\n",
      "Epoch 76/200\n",
      "125/125 [==============================] - 73s 587ms/step - loss: 0.0308 - accuracy: 0.9980 - val_loss: 0.2121 - val_accuracy: 0.9792\n",
      "Epoch 79/200\n",
      "125/125 [==============================] - 73s 587ms/step - loss: 1.5960e-04 - accuracy: 1.0000 - val_loss: 0.1860 - val_accuracy: 0.9844\n",
      "Epoch 80/200\n",
      "125/125 [==============================] - 73s 587ms/step - loss: 1.2615e-04 - accuracy: 1.0000 - val_loss: 0.3515 - val_accuracy: 0.9844\n",
      "Epoch 81/200\n",
      "125/125 [==============================] - 73s 587ms/step - loss: 1.2796e-05 - accuracy: 1.0000 - val_loss: 0.2935 - val_accuracy: 0.9844\n",
      "Epoch 82/200\n",
      "125/125 [==============================] - 73s 587ms/step - loss: 0.0056 - accuracy: 0.9992 - val_loss: 0.3012 - val_accuracy: 0.9792\n",
      "Epoch 83/200\n",
      "125/125 [==============================] - 73s 586ms/step - loss: 9.2475e-04 - accuracy: 0.9995 - val_loss: 0.1318 - val_accuracy: 0.9792\n",
      "Epoch 84/200\n",
      "125/125 [==============================] - 73s 586ms/step - loss: 1.3655e-04 - accuracy: 1.0000 - val_loss: 0.1563 - val_accuracy: 0.9844\n",
      "Epoch 85/200\n",
      "125/125 [==============================] - 73s 587ms/step - loss: 0.0057 - accuracy: 0.9995 - val_loss: 0.3129 - val_accuracy: 0.9583\n",
      "Epoch 86/200\n",
      "125/125 [==============================] - 73s 587ms/step - loss: 0.0329 - accuracy: 0.9952 - val_loss: 1.0103 - val_accuracy: 0.9062\n",
      "Epoch 87/200\n",
      "125/125 [==============================] - 73s 586ms/step - loss: 0.0064 - accuracy: 0.9983 - val_loss: 0.1607 - val_accuracy: 0.9792\n",
      "Epoch 88/200\n",
      "125/125 [==============================] - 73s 586ms/step - loss: 6.2624e-04 - accuracy: 0.9998 - val_loss: 0.2289 - val_accuracy: 0.9688\n",
      "Epoch 89/200\n",
      "125/125 [==============================] - 73s 586ms/step - loss: 2.8997e-04 - accuracy: 0.9998 - val_loss: 0.1555 - val_accuracy: 0.9844\n",
      "Epoch 90/200\n",
      "125/125 [==============================] - 73s 588ms/step - loss: 0.0023 - accuracy: 0.9995 - val_loss: 0.4240 - val_accuracy: 0.9688\n",
      "Epoch 91/200\n",
      "125/125 [==============================] - 73s 586ms/step - loss: 0.0158 - accuracy: 0.9983 - val_loss: 0.2367 - val_accuracy: 0.9740\n",
      "Epoch 92/200\n",
      "125/125 [==============================] - 73s 587ms/step - loss: 0.0030 - accuracy: 0.9995 - val_loss: 0.2156 - val_accuracy: 0.9740\n",
      "Epoch 93/200\n",
      "125/125 [==============================] - 73s 587ms/step - loss: 0.0060 - accuracy: 0.9987 - val_loss: 1.3966 - val_accuracy: 0.8542\n",
      "Epoch 94/200\n",
      "125/125 [==============================] - 73s 587ms/step - loss: 0.0233 - accuracy: 0.9977 - val_loss: 1.4498 - val_accuracy: 0.9010\n",
      "Epoch 95/200\n",
      "125/125 [==============================] - 73s 587ms/step - loss: 0.0241 - accuracy: 0.9965 - val_loss: 0.4979 - val_accuracy: 0.9583\n",
      "Epoch 96/200\n",
      "125/125 [==============================] - 73s 586ms/step - loss: 0.0084 - accuracy: 0.9983 - val_loss: 0.4145 - val_accuracy: 0.9635\n",
      "Epoch 97/200\n",
      "125/125 [==============================] - 73s 587ms/step - loss: 0.0153 - accuracy: 0.9975 - val_loss: 0.3801 - val_accuracy: 0.9688\n",
      "Epoch 98/200\n",
      "125/125 [==============================] - 73s 586ms/step - loss: 0.0062 - accuracy: 0.9985 - val_loss: 0.2788 - val_accuracy: 0.9792\n",
      "Epoch 99/200\n",
      "125/125 [==============================] - 73s 586ms/step - loss: 0.0091 - accuracy: 0.9985 - val_loss: 0.2023 - val_accuracy: 0.9896\n",
      "Epoch 100/200\n",
      "125/125 [==============================] - 73s 587ms/step - loss: 0.0497 - accuracy: 0.9992 - val_loss: 0.2719 - val_accuracy: 0.9792\n",
      "Epoch 101/200\n",
      "125/125 [==============================] - 73s 586ms/step - loss: 0.0167 - accuracy: 0.9980 - val_loss: 0.2448 - val_accuracy: 0.9688\n",
      "Epoch 102/200\n",
      "125/125 [==============================] - 73s 587ms/step - loss: 0.0077 - accuracy: 0.9983 - val_loss: 0.2027 - val_accuracy: 0.9844\n",
      "Epoch 103/200\n",
      "125/125 [==============================] - 73s 587ms/step - loss: 0.0033 - accuracy: 0.9987 - val_loss: 0.3915 - val_accuracy: 0.9792\n",
      "Epoch 104/200\n",
      "125/125 [==============================] - 73s 586ms/step - loss: 0.0219 - accuracy: 0.9977 - val_loss: 2.7401 - val_accuracy: 0.8594\n",
      "Epoch 105/200\n",
      "125/125 [==============================] - 73s 587ms/step - loss: 0.0161 - accuracy: 0.9977 - val_loss: 0.1583 - val_accuracy: 0.9844\n",
      "Epoch 106/200\n",
      "125/125 [==============================] - 74s 588ms/step - loss: 3.5410e-04 - accuracy: 1.0000 - val_loss: 0.0892 - val_accuracy: 0.9948\n",
      "Epoch 107/200\n",
      "125/125 [==============================] - 73s 587ms/step - loss: 0.0023 - accuracy: 0.9992 - val_loss: 0.2564 - val_accuracy: 0.9844\n",
      "Epoch 108/200\n",
      "125/125 [==============================] - 73s 587ms/step - loss: 0.0074 - accuracy: 0.9990 - val_loss: 0.5513 - val_accuracy: 0.9635\n",
      "Epoch 109/200\n",
      "125/125 [==============================] - 74s 588ms/step - loss: 0.0020 - accuracy: 0.9998 - val_loss: 0.2537 - val_accuracy: 0.9896\n",
      "Epoch 110/200\n",
      "125/125 [==============================] - 74s 588ms/step - loss: 0.0031 - accuracy: 0.9990 - val_loss: 4.8063 - val_accuracy: 0.6927\n",
      "Epoch 111/200\n",
      "125/125 [==============================] - 73s 587ms/step - loss: 0.0193 - accuracy: 0.9987 - val_loss: 0.0323 - val_accuracy: 0.9896\n",
      "Epoch 112/200\n",
      "125/125 [==============================] - 73s 587ms/step - loss: 0.0469 - accuracy: 0.9948 - val_loss: 0.1368 - val_accuracy: 0.9635\n",
      "Epoch 113/200\n",
      "125/125 [==============================] - 73s 586ms/step - loss: 0.0239 - accuracy: 0.9977 - val_loss: 0.1484 - val_accuracy: 0.9844\n",
      "Epoch 114/200\n",
      "125/125 [==============================] - 73s 586ms/step - loss: 6.3446e-04 - accuracy: 0.9998 - val_loss: 0.0577 - val_accuracy: 0.9896\n",
      "Epoch 115/200\n",
      "125/125 [==============================] - 73s 587ms/step - loss: 1.7461e-04 - accuracy: 1.0000 - val_loss: 0.1611 - val_accuracy: 0.9844\n",
      "Epoch 116/200\n",
      "125/125 [==============================] - 73s 587ms/step - loss: 0.0021 - accuracy: 0.9998 - val_loss: 0.2061 - val_accuracy: 0.9792\n",
      "Epoch 117/200\n",
      "125/125 [==============================] - 73s 586ms/step - loss: 3.1238e-05 - accuracy: 1.0000 - val_loss: 0.2133 - val_accuracy: 0.9792\n",
      "Epoch 118/200\n",
      "125/125 [==============================] - 73s 587ms/step - loss: 3.0192e-05 - accuracy: 1.0000 - val_loss: 0.2164 - val_accuracy: 0.9792\n",
      "Epoch 119/200\n",
      "125/125 [==============================] - 73s 586ms/step - loss: 0.0308 - accuracy: 0.9983 - val_loss: 0.2679 - val_accuracy: 0.9792\n",
      "Epoch 120/200\n",
      "125/125 [==============================] - 73s 586ms/step - loss: 0.0280 - accuracy: 0.9987 - val_loss: 0.8811 - val_accuracy: 0.9583\n",
      "Epoch 121/200\n",
      "125/125 [==============================] - 73s 587ms/step - loss: 8.2163e-05 - accuracy: 1.0000 - val_loss: 0.3925 - val_accuracy: 0.9740\n",
      "Epoch 122/200\n",
      "125/125 [==============================] - 73s 586ms/step - loss: 0.0268 - accuracy: 0.9985 - val_loss: 0.1093 - val_accuracy: 0.9844\n",
      "Epoch 123/200\n",
      "125/125 [==============================] - 73s 587ms/step - loss: 0.0055 - accuracy: 0.9998 - val_loss: 0.2274 - val_accuracy: 0.9844\n",
      "Epoch 124/200\n",
      "125/125 [==============================] - 73s 587ms/step - loss: 0.0024 - accuracy: 0.9995 - val_loss: 0.1974 - val_accuracy: 0.9740\n",
      "Epoch 125/200\n",
      "125/125 [==============================] - 73s 586ms/step - loss: 0.0031 - accuracy: 0.9995 - val_loss: 0.2285 - val_accuracy: 0.9792\n",
      "Epoch 126/200\n",
      "125/125 [==============================] - 73s 586ms/step - loss: 0.0073 - accuracy: 0.9990 - val_loss: 0.6169 - val_accuracy: 0.9688\n",
      "Epoch 127/200\n",
      "125/125 [==============================] - 73s 587ms/step - loss: 4.6235e-04 - accuracy: 0.9998 - val_loss: 0.2282 - val_accuracy: 0.9688\n",
      "Epoch 128/200\n",
      "125/125 [==============================] - 73s 587ms/step - loss: 0.0157 - accuracy: 0.9987 - val_loss: 0.3489 - val_accuracy: 0.9635\n",
      "Epoch 129/200\n",
      "125/125 [==============================] - 73s 587ms/step - loss: 0.0014 - accuracy: 0.9998 - val_loss: 0.1679 - val_accuracy: 0.9844\n",
      "Epoch 130/200\n",
      "125/125 [==============================] - 73s 586ms/step - loss: 3.8119e-04 - accuracy: 0.9998 - val_loss: 0.1988 - val_accuracy: 0.9844\n",
      "Epoch 131/200\n",
      "125/125 [==============================] - 73s 586ms/step - loss: 1.3513e-05 - accuracy: 1.0000 - val_loss: 0.2194 - val_accuracy: 0.9844\n",
      "Epoch 132/200\n",
      "125/125 [==============================] - 73s 586ms/step - loss: 6.7022e-06 - accuracy: 1.0000 - val_loss: 0.2331 - val_accuracy: 0.9844\n",
      "Epoch 133/200\n",
      "125/125 [==============================] - 73s 587ms/step - loss: 0.0246 - accuracy: 0.9973 - val_loss: 4.3197 - val_accuracy: 0.7240\n",
      "Epoch 136/200\n",
      "125/125 [==============================] - 73s 587ms/step - loss: 0.0168 - accuracy: 0.9960 - val_loss: 0.3580 - val_accuracy: 0.9688\n",
      "Epoch 137/200\n",
      "125/125 [==============================] - 73s 587ms/step - loss: 0.0188 - accuracy: 0.9985 - val_loss: 0.3235 - val_accuracy: 0.9531\n",
      "Epoch 138/200\n",
      "125/125 [==============================] - 73s 587ms/step - loss: 7.0383e-04 - accuracy: 0.9998 - val_loss: 0.1500 - val_accuracy: 0.9688\n",
      "Epoch 139/200\n",
      "125/125 [==============================] - 73s 586ms/step - loss: 1.7907e-05 - accuracy: 1.0000 - val_loss: 0.1502 - val_accuracy: 0.9792\n",
      "Epoch 140/200\n",
      "125/125 [==============================] - 73s 586ms/step - loss: 4.0465e-04 - accuracy: 0.9998 - val_loss: 0.1071 - val_accuracy: 0.9740\n",
      "Epoch 141/200\n",
      "125/125 [==============================] - 73s 587ms/step - loss: 6.7227e-04 - accuracy: 0.9995 - val_loss: 0.3073 - val_accuracy: 0.9688\n",
      "Epoch 142/200\n",
      "125/125 [==============================] - 73s 586ms/step - loss: 0.0105 - accuracy: 0.9985 - val_loss: 0.2735 - val_accuracy: 0.9740\n",
      "Epoch 143/200\n",
      "125/125 [==============================] - 73s 586ms/step - loss: 0.0013 - accuracy: 0.9995 - val_loss: 0.8630 - val_accuracy: 0.9583\n",
      "Epoch 144/200\n",
      "125/125 [==============================] - 73s 586ms/step - loss: 0.0087 - accuracy: 0.9985 - val_loss: 0.4304 - val_accuracy: 0.9427\n",
      "Epoch 145/200\n",
      "125/125 [==============================] - 73s 587ms/step - loss: 0.0121 - accuracy: 0.9992 - val_loss: 0.1148 - val_accuracy: 0.9844\n",
      "Epoch 146/200\n",
      "125/125 [==============================] - 73s 587ms/step - loss: 0.0419 - accuracy: 0.9967 - val_loss: 0.4483 - val_accuracy: 0.9531\n",
      "Epoch 147/200\n",
      "125/125 [==============================] - 73s 587ms/step - loss: 0.0121 - accuracy: 0.9973 - val_loss: 0.2579 - val_accuracy: 0.9792\n",
      "Epoch 148/200\n",
      "125/125 [==============================] - 73s 587ms/step - loss: 0.0010 - accuracy: 0.9998 - val_loss: 0.2301 - val_accuracy: 0.9792\n",
      "Epoch 149/200\n",
      "125/125 [==============================] - 73s 587ms/step - loss: 0.0018 - accuracy: 0.9995 - val_loss: 0.1605 - val_accuracy: 0.9792\n",
      "Epoch 150/200\n",
      "125/125 [==============================] - 73s 587ms/step - loss: 0.0123 - accuracy: 0.9992 - val_loss: 0.3069 - val_accuracy: 0.9688\n",
      "Epoch 151/200\n",
      "125/125 [==============================] - 73s 586ms/step - loss: 0.0036 - accuracy: 0.9992 - val_loss: 0.1855 - val_accuracy: 0.9844\n",
      "Epoch 152/200\n",
      "125/125 [==============================] - 73s 586ms/step - loss: 0.0055 - accuracy: 0.9983 - val_loss: 0.5864 - val_accuracy: 0.9583\n",
      "Epoch 153/200\n",
      "125/125 [==============================] - 73s 586ms/step - loss: 0.0191 - accuracy: 0.9967 - val_loss: 0.3479 - val_accuracy: 0.9740\n",
      "Epoch 154/200\n",
      "125/125 [==============================] - 73s 586ms/step - loss: 0.0065 - accuracy: 0.9995 - val_loss: 0.1428 - val_accuracy: 0.9844\n",
      "Epoch 155/200\n",
      "125/125 [==============================] - 73s 586ms/step - loss: 0.0382 - accuracy: 0.9980 - val_loss: 0.6073 - val_accuracy: 0.9323\n",
      "Epoch 156/200\n",
      "125/125 [==============================] - 73s 586ms/step - loss: 0.0026 - accuracy: 0.9992 - val_loss: 0.2811 - val_accuracy: 0.9792\n",
      "Epoch 157/200\n",
      "125/125 [==============================] - 73s 586ms/step - loss: 9.0641e-04 - accuracy: 0.9998 - val_loss: 0.3888 - val_accuracy: 0.9688\n",
      "Epoch 158/200\n",
      "125/125 [==============================] - 73s 586ms/step - loss: 0.0287 - accuracy: 0.9980 - val_loss: 0.4729 - val_accuracy: 0.9427\n",
      "Epoch 159/200\n",
      "125/125 [==============================] - 73s 587ms/step - loss: 0.0080 - accuracy: 0.9983 - val_loss: 0.1269 - val_accuracy: 0.9688\n",
      "Epoch 160/200\n",
      "125/125 [==============================] - 73s 587ms/step - loss: 1.1744e-06 - accuracy: 1.0000 - val_loss: 0.0680 - val_accuracy: 0.9896\n",
      "Epoch 163/200\n",
      "125/125 [==============================] - 73s 586ms/step - loss: 4.5942e-05 - accuracy: 1.0000 - val_loss: 0.0627 - val_accuracy: 0.9896\n",
      "Epoch 164/200\n",
      "125/125 [==============================] - 73s 586ms/step - loss: 0.0051 - accuracy: 0.9990 - val_loss: 0.1227 - val_accuracy: 0.9792\n",
      "Epoch 165/200\n",
      "125/125 [==============================] - 73s 587ms/step - loss: 0.0015 - accuracy: 0.9995 - val_loss: 0.5299 - val_accuracy: 0.9792\n",
      "Epoch 166/200\n",
      "125/125 [==============================] - 73s 587ms/step - loss: 0.0416 - accuracy: 0.9973 - val_loss: 0.3610 - val_accuracy: 0.9688\n",
      "Epoch 167/200\n",
      "125/125 [==============================] - 73s 586ms/step - loss: 0.0722 - accuracy: 0.9962 - val_loss: 1.7246 - val_accuracy: 0.9010\n",
      "Epoch 168/200\n",
      "125/125 [==============================] - 73s 587ms/step - loss: 0.0040 - accuracy: 0.9992 - val_loss: 0.3121 - val_accuracy: 0.9844\n",
      "Epoch 169/200\n",
      "125/125 [==============================] - 73s 587ms/step - loss: 0.0013 - accuracy: 0.9998 - val_loss: 0.2707 - val_accuracy: 0.9792\n",
      "Epoch 170/200\n",
      "125/125 [==============================] - 73s 587ms/step - loss: 0.0181 - accuracy: 0.9983 - val_loss: 7.7049 - val_accuracy: 0.8854\n",
      "Epoch 171/200\n",
      "125/125 [==============================] - 73s 586ms/step - loss: 0.0280 - accuracy: 0.9973 - val_loss: 0.2524 - val_accuracy: 0.9427\n",
      "Epoch 172/200\n",
      "125/125 [==============================] - 73s 587ms/step - loss: 0.0252 - accuracy: 0.9985 - val_loss: 0.1862 - val_accuracy: 0.9583\n",
      "Epoch 173/200\n",
      "125/125 [==============================] - 73s 587ms/step - loss: 0.0013 - accuracy: 0.9998 - val_loss: 0.0733 - val_accuracy: 0.9896\n",
      "Epoch 174/200\n",
      "125/125 [==============================] - 73s 586ms/step - loss: 0.0042 - accuracy: 0.9990 - val_loss: 0.4026 - val_accuracy: 0.9792\n",
      "Epoch 175/200\n",
      "125/125 [==============================] - 73s 587ms/step - loss: 0.0152 - accuracy: 0.9992 - val_loss: 0.2115 - val_accuracy: 0.9844\n",
      "Epoch 176/200\n",
      "125/125 [==============================] - 74s 588ms/step - loss: 0.0028 - accuracy: 0.9990 - val_loss: 0.1152 - val_accuracy: 0.9896\n",
      "Epoch 177/200\n",
      "125/125 [==============================] - 74s 588ms/step - loss: 1.4600e-04 - accuracy: 1.0000 - val_loss: 0.1301 - val_accuracy: 0.9896\n",
      "Epoch 178/200\n",
      "125/125 [==============================] - 74s 588ms/step - loss: 1.2615e-05 - accuracy: 1.0000 - val_loss: 0.1236 - val_accuracy: 0.9896\n",
      "Epoch 179/200\n",
      "125/125 [==============================] - 73s 587ms/step - loss: 0.0021 - accuracy: 0.9998 - val_loss: 0.1618 - val_accuracy: 0.9844\n",
      "Epoch 180/200\n",
      "125/125 [==============================] - 73s 587ms/step - loss: 0.0368 - accuracy: 0.9983 - val_loss: 7.2384 - val_accuracy: 0.7500\n",
      "Epoch 181/200\n",
      "125/125 [==============================] - 73s 587ms/step - loss: 0.0185 - accuracy: 0.9980 - val_loss: 0.5766 - val_accuracy: 0.9688\n",
      "Epoch 182/200\n",
      "125/125 [==============================] - 74s 588ms/step - loss: 0.0025 - accuracy: 0.9985 - val_loss: 0.2384 - val_accuracy: 0.9844\n",
      "Epoch 183/200\n",
      "109/125 [=========================>....] - ETA: 9s - loss: 0.0061 - accuracy: 0.9991"
     ]
    }
   ],
   "source": [
    "import tensorflow as tf\n",
    "with tf.device('/GPU:0'):\n",
    "    history = model.fit_generator(\n",
    "        train_generator,\n",
    "        steps_per_epoch=train_generator.samples // 32,\n",
    "        validation_data=validation_generator,\n",
    "        validation_steps=validation_generator.samples // 32,\n",
    "        epochs=200\n",
    "    )"
   ]
  },
  {
   "cell_type": "code",
   "execution_count": 18,
   "id": "3e3239c3-3ee3-45d9-97a3-48c59d0621de",
   "metadata": {},
   "outputs": [
    {
     "data": {
      "image/png": "[encoded data removed]",
      "text/plain": [
       "<Figure size 800x800 with 2 Axes>"
      ]
     },
     "metadata": {},
     "output_type": "display_data"
    }
   ],
   "source": [
    "import matplotlib.pyplot as plt\n",
    "acc = history.history['accuracy']\n",
    "val_acc = history.history['val_accuracy']\n",
    "\n",
    "loss = history.history['loss']\n",
    "val_loss = history.history['val_loss']\n",
    "\n",
    "epochs_range = range(200)\n",
    "\n",
    "plt.figure(figsize=(8, 8))\n",
    "plt.subplot(1, 2, 1)\n",
    "plt.plot(epochs_range, acc, label='Training Accuracy')\n",
    "plt.plot(epochs_range, val_acc, label='Validation Accuracy')\n",
    "plt.legend(loc='lower right')\n",
    "plt.title('Training and Validation Accuracy')\n",
    "\n",
    "plt.subplot(1, 2, 2)\n",
    "plt.plot(epochs_range, loss, label='Training Loss')\n",
    "plt.plot(epochs_range, val_loss, label='Validation Loss')\n",
    "plt.legend(loc='upper right')\n",
    "plt.title('Training and Validation Loss')\n",
    "plt.show()"
   ]
  },
  {
   "cell_type": "code",
   "execution_count": 3,
   "id": "6bdad000-54d1-46db-bc0d-118e6defff7a",
   "metadata": {},
   "outputs": [
    {
     "name": "stdout",
     "output_type": "stream",
     "text": [
      "Found 994 images belonging to 5 classes.\n"
     ]
    }
   ],
   "source": [
    "from keras.preprocessing.image import ImageDataGenerator\n",
    "test_ds = \"./dataset/VegetableImages/test/\"\n",
    "test_datagen = ImageDataGenerator(rescale=1./255)  # Rescale pixel values between 0 and 1\n",
    "\n",
    "test_generator = test_datagen.flow_from_directory(\n",
    "    test_ds,\n",
    "    target_size=(224, 224),\n",
    "    batch_size=1,\n",
    "    class_mode='categorical',\n",
    "    shuffle=False\n",
    ")"
   ]
  },
  {
   "cell_type": "code",
   "execution_count": 24,
   "id": "42170cf1-c0d3-462c-a770-fd7ce6b6d03a",
   "metadata": {},
   "outputs": [
    {
     "name": "stderr",
     "output_type": "stream",
     "text": [
      "2023-06-05 22:23:41.700031: W tensorflow/python/util/util.cc:368] Sets are not currently considered sequences, but this may change in the future, so consider avoiding using them.\n"
     ]
    },
    {
     "name": "stdout",
     "output_type": "stream",
     "text": [
      "INFO:tensorflow:Assets written to: ./model/veggies-resnet-model-v1/assets\n"
     ]
    }
   ],
   "source": [
    "model.save(\"./model/veggies-resnet-model-v1/\")"
   ]
  },
  {
   "cell_type": "code",
   "execution_count": 1,
   "id": "242f44bb-d847-4450-853e-44ca2da5c02f",
   "metadata": {},
   "outputs": [
    {
     "name": "stderr",
     "output_type": "stream",
     "text": [
      "2023-06-05 22:28:13.629699: I tensorflow/stream_executor/cuda/cuda_gpu_executor.cc:936] successful NUMA node read from SysFS had negative value (-1), but there must be at least one NUMA node, so returning NUMA node zero\n",
      "2023-06-05 22:28:13.642698: I tensorflow/stream_executor/cuda/cuda_gpu_executor.cc:936] successful NUMA node read from SysFS had negative value (-1), but there must be at least one NUMA node, so returning NUMA node zero\n",
      "2023-06-05 22:28:13.644465: I tensorflow/stream_executor/cuda/cuda_gpu_executor.cc:936] successful NUMA node read from SysFS had negative value (-1), but there must be at least one NUMA node, so returning NUMA node zero\n",
      "2023-06-05 22:28:13.647052: I tensorflow/core/platform/cpu_feature_guard.cc:151] This TensorFlow binary is optimized with oneAPI Deep Neural Network Library (oneDNN) to use the following CPU instructions in performance-critical operations:  AVX2 FMA\n",
      "To enable them in other operations, rebuild TensorFlow with the appropriate compiler flags.\n",
      "2023-06-05 22:28:13.649981: I tensorflow/stream_executor/cuda/cuda_gpu_executor.cc:936] successful NUMA node read from SysFS had negative value (-1), but there must be at least one NUMA node, so returning NUMA node zero\n",
      "2023-06-05 22:28:13.651743: I tensorflow/stream_executor/cuda/cuda_gpu_executor.cc:936] successful NUMA node read from SysFS had negative value (-1), but there must be at least one NUMA node, so returning NUMA node zero\n",
      "2023-06-05 22:28:13.653567: I tensorflow/stream_executor/cuda/cuda_gpu_executor.cc:936] successful NUMA node read from SysFS had negative value (-1), but there must be at least one NUMA node, so returning NUMA node zero\n",
      "2023-06-05 22:28:14.370441: I tensorflow/stream_executor/cuda/cuda_gpu_executor.cc:936] successful NUMA node read from SysFS had negative value (-1), but there must be at least one NUMA node, so returning NUMA node zero\n",
      "2023-06-05 22:28:14.372478: I tensorflow/stream_executor/cuda/cuda_gpu_executor.cc:936] successful NUMA node read from SysFS had negative value (-1), but there must be at least one NUMA node, so returning NUMA node zero\n",
      "2023-06-05 22:28:14.374275: I tensorflow/stream_executor/cuda/cuda_gpu_executor.cc:936] successful NUMA node read from SysFS had negative value (-1), but there must be at least one NUMA node, so returning NUMA node zero\n",
      "2023-06-05 22:28:14.375936: I tensorflow/core/common_runtime/gpu/gpu_device.cc:1525] Created device /job:localhost/replica:0/task:0/device:GPU:0 with 13598 MB memory:  -> device: 0, name: Tesla T4, pci bus id: 0000:00:04.0, compute capability: 7.5\n"
     ]
    }
   ],
   "source": [
    "from keras.models import load_model\n",
    "\n",
    "loaded_model = load_model(\"./model/veggies-resnet-model-v1/\")"
   ]
  },
  {
   "cell_type": "code",
   "execution_count": 4,
   "id": "26aa3435-00a9-4b6a-92bb-bc3249d4d274",
   "metadata": {
    "tags": []
   },
   "outputs": [
    {
     "name": "stderr",
     "output_type": "stream",
     "text": [
      "/opt/conda/lib/python3.7/site-packages/ipykernel_launcher.py:1: UserWarning: `Model.predict_generator` is deprecated and will be removed in a future version. Please use `Model.predict`, which supports generators.\n",
      "  \"\"\"Entry point for launching an IPython kernel.\n",
      "2023-06-05 22:30:38.565966: I tensorflow/stream_executor/cuda/cuda_dnn.cc:368] Loaded cuDNN version 8200\n"
     ]
    }
   ],
   "source": [
    "predictions = loaded_model.predict_generator(test_generator, steps=test_generator.samples)"
   ]
  },
  {
   "cell_type": "code",
   "execution_count": 6,
   "id": "00e1dc1d-d08f-4fcc-af43-4308868b6cf0",
   "metadata": {
    "tags": []
   },
   "outputs": [],
   "source": [
    "import numpy as np\n",
    "\n",
    "# Convert the predicted labels to class indices\n",
    "predicted_labels = np.argmax(predictions, axis=1)\n"
   ]
  },
  {
   "cell_type": "code",
   "execution_count": 7,
   "id": "aff36709-4fff-4a5c-bb88-51efe1cbf1dc",
   "metadata": {},
   "outputs": [
    {
     "name": "stdout",
     "output_type": "stream",
     "text": [
      "              precision    recall  f1-score   support\n",
      "\n",
      "        Bean       0.98      1.00      0.99       200\n",
      "      Papaya       0.97      1.00      0.98       200\n",
      "      Potato       0.99      1.00      0.99       200\n",
      "      Radish       0.99      0.98      0.99       194\n",
      "      Tomato       0.99      0.93      0.96       200\n",
      "\n",
      "    accuracy                           0.98       994\n",
      "   macro avg       0.98      0.98      0.98       994\n",
      "weighted avg       0.98      0.98      0.98       994\n",
      "\n"
     ]
    }
   ],
   "source": [
    "from sklearn.metrics import classification_report\n",
    "\n",
    "# Get the true labels for the test images\n",
    "true_labels = test_generator.classes\n",
    "\n",
    "\n",
    "# Generate the classification report\n",
    "report = classification_report(true_labels, predicted_labels, target_names=class_labels)\n",
    "\n",
    "# Print the classification report\n",
    "print(report)"
   ]
  },
  {
   "cell_type": "code",
   "execution_count": null,
   "id": "81b0f10f-ca1d-4df4-a689-ba00377a0fb1",
   "metadata": {},
   "outputs": [],
   "source": []
  }
 ],
 "metadata": {
  "environment": {
   "kernel": "python3",
   "name": "tf2-gpu.2-8.m102",
   "type": "gcloud",
   "uri": "gcr.io/deeplearning-platform-release/tf2-gpu.2-8:m102"
  },
  "kernelspec": {
   "display_name": "Python 3 (ipykernel)",
   "language": "python",
   "name": "python3"
  },
  "language_info": {
   "codemirror_mode": {
    "name": "ipython",
    "version": 3
   },
   "file_extension": ".py",
   "mimetype": "text/x-python",
   "name": "python",
   "nbconvert_exporter": "python",
   "pygments_lexer": "ipython3",
   "version": "3.7.12"
  }
 },
 "nbformat": 4,
 "nbformat_minor": 5
}
